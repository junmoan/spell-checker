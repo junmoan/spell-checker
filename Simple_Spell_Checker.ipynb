{
  "nbformat": 4,
  "nbformat_minor": 0,
  "metadata": {
    "kernelspec": {
      "display_name": "Python [default]",
      "language": "python",
      "name": "python3"
    },
    "language_info": {
      "codemirror_mode": {
        "name": "ipython",
        "version": 3
      },
      "file_extension": ".py",
      "mimetype": "text/x-python",
      "name": "python",
      "nbconvert_exporter": "python",
      "pygments_lexer": "ipython3",
      "version": "3.5.4"
    },
    "colab": {
      "name": "Spell_Checker.ipynb",
      "provenance": [],
      "collapsed_sections": []
    }
  },
  "cells": [
    {
      "cell_type": "code",
      "metadata": {
        "id": "Q5c_JDvLZ3Ce",
        "colab_type": "code",
        "colab": {}
      },
      "source": [
        "# Import the libraries.\n",
        "import re\n",
        "from collections import Counter"
      ],
      "execution_count": 39,
      "outputs": []
    },
    {
      "cell_type": "code",
      "metadata": {
        "id": "rxeguafnZ3C3",
        "colab_type": "code",
        "colab": {}
      },
      "source": [
        "# Tokenization.\n",
        "def words(document):\n",
        "    return re.findall(r'\\w+', document.lower())"
      ],
      "execution_count": 40,
      "outputs": []
    },
    {
      "cell_type": "code",
      "metadata": {
        "id": "10-VWwNlfAdu",
        "colab_type": "code",
        "colab": {
          "base_uri": "https://localhost:8080/",
          "height": 34
        },
        "outputId": "05355169-eb76-4817-fafe-e52aa80c332b"
      },
      "source": [
        "from google.colab import drive\n",
        "drive.mount('/content/drive')"
      ],
      "execution_count": 41,
      "outputs": [
        {
          "output_type": "stream",
          "text": [
            "Drive already mounted at /content/drive; to attempt to forcibly remount, call drive.mount(\"/content/drive\", force_remount=True).\n"
          ],
          "name": "stdout"
        }
      ]
    },
    {
      "cell_type": "code",
      "metadata": {
        "id": "SduQgHGnZ3DK",
        "colab_type": "code",
        "colab": {}
      },
      "source": [
        "# Create a frequency table of all the words of the text file.\n",
        "all_words = Counter(words(open('big.txt').read()))"
      ],
      "execution_count": 42,
      "outputs": []
    },
    {
      "cell_type": "code",
      "metadata": {
        "id": "kXMRcsqEZ3Dn",
        "colab_type": "code",
        "colab": {
          "base_uri": "https://localhost:8080/",
          "height": 867
        },
        "outputId": "ebf00eb4-d8a1-4326-b8a6-cebaa165bbe7"
      },
      "source": [
        "# Top 50 frequent words.\n",
        "all_words.most_common(50)"
      ],
      "execution_count": 62,
      "outputs": [
        {
          "output_type": "execute_result",
          "data": {
            "text/plain": [
              "[('the', 79809),\n",
              " ('of', 40024),\n",
              " ('and', 38312),\n",
              " ('to', 28765),\n",
              " ('in', 22023),\n",
              " ('a', 21124),\n",
              " ('that', 12512),\n",
              " ('he', 12401),\n",
              " ('was', 11410),\n",
              " ('it', 10681),\n",
              " ('his', 10034),\n",
              " ('is', 9773),\n",
              " ('with', 9739),\n",
              " ('as', 8064),\n",
              " ('i', 7684),\n",
              " ('had', 7383),\n",
              " ('for', 6941),\n",
              " ('at', 6789),\n",
              " ('by', 6735),\n",
              " ('on', 6639),\n",
              " ('not', 6626),\n",
              " ('be', 6155),\n",
              " ('from', 5689),\n",
              " ('but', 5653),\n",
              " ('s', 5626),\n",
              " ('you', 5622),\n",
              " ('or', 5352),\n",
              " ('her', 5284),\n",
              " ('him', 5230),\n",
              " ('which', 4842),\n",
              " ('were', 4289),\n",
              " ('all', 4143),\n",
              " ('this', 4063),\n",
              " ('she', 3946),\n",
              " ('they', 3938),\n",
              " ('are', 3630),\n",
              " ('have', 3493),\n",
              " ('said', 3464),\n",
              " ('an', 3421),\n",
              " ('one', 3371),\n",
              " ('who', 3050),\n",
              " ('so', 3017),\n",
              " ('what', 3011),\n",
              " ('there', 2972),\n",
              " ('their', 2955),\n",
              " ('when', 2920),\n",
              " ('been', 2599),\n",
              " ('may', 2551),\n",
              " ('if', 2371),\n",
              " ('no', 2348)]"
            ]
          },
          "metadata": {
            "tags": []
          },
          "execution_count": 62
        }
      ]
    },
    {
      "cell_type": "code",
      "metadata": {
        "id": "_Oz8-QJ5arGe",
        "colab_type": "code",
        "colab": {
          "base_uri": "https://localhost:8080/",
          "height": 35
        },
        "outputId": "fd96ed37-38e5-4b44-c853-8e652a8c70c1"
      },
      "source": [
        "all_words['fire']"
      ],
      "execution_count": 44,
      "outputs": [
        {
          "output_type": "execute_result",
          "data": {
            "text/plain": [
              "274"
            ]
          },
          "metadata": {
            "tags": []
          },
          "execution_count": 44
        }
      ]
    },
    {
      "cell_type": "code",
      "metadata": {
        "id": "lM9q-SzaZ3DV",
        "colab_type": "code",
        "colab": {
          "base_uri": "https://localhost:8080/",
          "height": 34
        },
        "outputId": "f69c55f3-70f4-4ee3-ff90-15ed5c8068e7"
      },
      "source": [
        "# check frequency of a random word, say, 'chair'\n",
        "all_words['chair']"
      ],
      "execution_count": 45,
      "outputs": [
        {
          "output_type": "execute_result",
          "data": {
            "text/plain": [
              "135"
            ]
          },
          "metadata": {
            "tags": []
          },
          "execution_count": 45
        }
      ]
    },
    {
      "cell_type": "code",
      "metadata": {
        "id": "3gsJxXCmZ3D0",
        "colab_type": "code",
        "colab": {}
      },
      "source": [
        "def edits_one(word):\n",
        "    \"Create all edits that are one edit away from `word`.\"\n",
        "    alphabets    = 'abcdefghijklmnopqrstuvwxyz'\n",
        "    splits     = [(word[:i], word[i:])                   for i in range(len(word) + 1)]\n",
        "    deletes    = [left + right[1:]                       for left, right in splits if right]\n",
        "    inserts    = [left + c + right                       for left, right in splits for c in alphabets]\n",
        "    replaces   = [left + c + right[1:]                   for left, right in splits if right for c in alphabets]\n",
        "    transposes = [left + right[1] + right[0] + right[2:] for left, right in splits if len(right)>1]\n",
        "    return set(deletes + inserts + replaces + transposes)"
      ],
      "execution_count": 46,
      "outputs": []
    },
    {
      "cell_type": "code",
      "metadata": {
        "id": "ha5yKOFVZ3E1",
        "colab_type": "code",
        "colab": {}
      },
      "source": [
        "def edits_two(word):\n",
        "    \"Create all edits that are two edits away from `word`.\"\n",
        "    return (e2 for e1 in edits_one(word) for e2 in edits_one(e1))"
      ],
      "execution_count": 47,
      "outputs": []
    },
    {
      "cell_type": "code",
      "metadata": {
        "id": "IwVpFqZEZ3FA",
        "colab_type": "code",
        "colab": {}
      },
      "source": [
        "def known(words):\n",
        "    \"The subset of `words` that appear in the `all_words`.\"\n",
        "    return set(word for word in words if word in all_words)"
      ],
      "execution_count": 48,
      "outputs": []
    },
    {
      "cell_type": "code",
      "metadata": {
        "id": "pToiGU9FZ3FJ",
        "colab_type": "code",
        "colab": {}
      },
      "source": [
        "def possible_corrections(word):\n",
        "    \"Generate possible spelling corrections for word.\"\n",
        "    return (known([word]) or known(edits_one(word)) or known(edits_two(word)) or [word])"
      ],
      "execution_count": 49,
      "outputs": []
    },
    {
      "cell_type": "code",
      "metadata": {
        "id": "02ROT7eRZ3FU",
        "colab_type": "code",
        "colab": {}
      },
      "source": [
        "def prob(word, N=sum(all_words.values())): \n",
        "    \"Probability of `word`: Number of appearances of 'word' / total number of tokens\"\n",
        "    return all_words[word] / N"
      ],
      "execution_count": 50,
      "outputs": []
    },
    {
      "cell_type": "code",
      "metadata": {
        "id": "0jtl1MtOZ3Gp",
        "colab_type": "code",
        "colab": {}
      },
      "source": [
        "def spell_check(word):\n",
        "    \"Print the most probable spelling correction for `word` out of all the `possible_corrections`\"\n",
        "    correct_word = max(possible_corrections(word), key=prob)\n",
        "    if correct_word != word:\n",
        "        return \"Did you mean '\" + correct_word + \"'?\"\n",
        "    else:\n",
        "        return \"Correct spelling.\""
      ],
      "execution_count": 51,
      "outputs": []
    },
    {
      "cell_type": "code",
      "metadata": {
        "id": "XSP6JouNZ3G4",
        "colab_type": "code",
        "colab": {
          "base_uri": "https://localhost:8080/",
          "height": 34
        },
        "outputId": "2ec2e915-9321-4a20-ff9a-4a086d68130a"
      },
      "source": [
        "print(spell_check(\"monney\"))"
      ],
      "execution_count": 52,
      "outputs": [
        {
          "output_type": "stream",
          "text": [
            "Did you mean 'money'?\n"
          ],
          "name": "stdout"
        }
      ]
    },
    {
      "cell_type": "code",
      "metadata": {
        "id": "JstBfAsZbSkj",
        "colab_type": "code",
        "colab": {
          "base_uri": "https://localhost:8080/",
          "height": 34
        },
        "outputId": "ed139959-d1ea-404e-f577-326b96eac58b"
      },
      "source": [
        "print(spell_check(\"coutry\"))"
      ],
      "execution_count": 53,
      "outputs": [
        {
          "output_type": "stream",
          "text": [
            "Did you mean 'country'?\n"
          ],
          "name": "stdout"
        }
      ]
    },
    {
      "cell_type": "code",
      "metadata": {
        "id": "6tv9ZUNVbdYR",
        "colab_type": "code",
        "colab": {
          "base_uri": "https://localhost:8080/",
          "height": 34
        },
        "outputId": "dcec137c-b727-4e60-adde-407838cb5083"
      },
      "source": [
        "print(spell_check(\"cigarte\"))"
      ],
      "execution_count": 54,
      "outputs": [
        {
          "output_type": "stream",
          "text": [
            "Did you mean 'cigar'?\n"
          ],
          "name": "stdout"
        }
      ]
    },
    {
      "cell_type": "code",
      "metadata": {
        "id": "kOI7SU_pbziM",
        "colab_type": "code",
        "colab": {
          "base_uri": "https://localhost:8080/",
          "height": 34
        },
        "outputId": "3aa94324-2e85-4e5f-fb31-7d0f0bb8a5f2"
      },
      "source": [
        "print(spell_check(\"cigarete\"))"
      ],
      "execution_count": 55,
      "outputs": [
        {
          "output_type": "stream",
          "text": [
            "Did you mean 'cigarette'?\n"
          ],
          "name": "stdout"
        }
      ]
    },
    {
      "cell_type": "code",
      "metadata": {
        "id": "tsNrHuI_gS_r",
        "colab_type": "code",
        "colab": {
          "base_uri": "https://localhost:8080/",
          "height": 34
        },
        "outputId": "28c06cd8-de83-4c02-dfed-a24c48ce6f94"
      },
      "source": [
        "print(spell_check(\"wired\"))"
      ],
      "execution_count": 56,
      "outputs": [
        {
          "output_type": "stream",
          "text": [
            "Correct spelling.\n"
          ],
          "name": "stdout"
        }
      ]
    },
    {
      "cell_type": "code",
      "metadata": {
        "id": "XU1yOt4fgjwN",
        "colab_type": "code",
        "colab": {
          "base_uri": "https://localhost:8080/",
          "height": 34
        },
        "outputId": "15a0cd61-a18d-4aaa-b8f0-35d6c8f9d1a9"
      },
      "source": [
        "print(spell_check(\"weird\"))"
      ],
      "execution_count": 57,
      "outputs": [
        {
          "output_type": "stream",
          "text": [
            "Correct spelling.\n"
          ],
          "name": "stdout"
        }
      ]
    },
    {
      "cell_type": "code",
      "metadata": {
        "id": "j9mZUUkWgyYH",
        "colab_type": "code",
        "colab": {
          "base_uri": "https://localhost:8080/",
          "height": 34
        },
        "outputId": "e850f33a-4194-48b6-e388-cc6cd89c7011"
      },
      "source": [
        "print(spell_check(\"weidr\"))"
      ],
      "execution_count": 58,
      "outputs": [
        {
          "output_type": "stream",
          "text": [
            "Did you mean 'weird'?\n"
          ],
          "name": "stdout"
        }
      ]
    },
    {
      "cell_type": "code",
      "metadata": {
        "id": "KttlWBpdg1LP",
        "colab_type": "code",
        "colab": {
          "base_uri": "https://localhost:8080/",
          "height": 34
        },
        "outputId": "9284b13a-33a2-445a-d01e-9693106d5fa9"
      },
      "source": [
        "print(spell_check(\"weired\"))"
      ],
      "execution_count": 59,
      "outputs": [
        {
          "output_type": "stream",
          "text": [
            "Did you mean 'wired'?\n"
          ],
          "name": "stdout"
        }
      ]
    },
    {
      "cell_type": "code",
      "metadata": {
        "id": "gFZqdBPcg6tS",
        "colab_type": "code",
        "colab": {
          "base_uri": "https://localhost:8080/",
          "height": 34
        },
        "outputId": "ed9b1162-ede9-4a8d-9fe7-b6b4eed02b17"
      },
      "source": [
        "print(spell_check(\"absense\"))"
      ],
      "execution_count": 60,
      "outputs": [
        {
          "output_type": "stream",
          "text": [
            "Did you mean 'absence'?\n"
          ],
          "name": "stdout"
        }
      ]
    },
    {
      "cell_type": "code",
      "metadata": {
        "id": "QD11mpN6hSAB",
        "colab_type": "code",
        "colab": {
          "base_uri": "https://localhost:8080/",
          "height": 34
        },
        "outputId": "5768576c-9de0-4c83-9ef9-b1ac6226d1bd"
      },
      "source": [
        "print(spell_check(\"aquire\"))"
      ],
      "execution_count": 61,
      "outputs": [
        {
          "output_type": "stream",
          "text": [
            "Did you mean 'acquire'?\n"
          ],
          "name": "stdout"
        }
      ]
    },
    {
      "cell_type": "code",
      "metadata": {
        "id": "r2-AbD2QhXHp",
        "colab_type": "code",
        "colab": {}
      },
      "source": [
        ""
      ],
      "execution_count": 61,
      "outputs": []
    }
  ]
}